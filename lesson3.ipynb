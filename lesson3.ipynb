{
 "cells": [
  {
   "cell_type": "markdown",
   "metadata": {},
   "source": [
    "# Python Numpy Library for Data Analysis"
   ]
  },
  {
   "cell_type": "code",
   "execution_count": 1,
   "metadata": {},
   "outputs": [
    {
     "data": {
      "text/plain": [
       "numpy.ndarray"
      ]
     },
     "execution_count": 1,
     "metadata": {},
     "output_type": "execute_result"
    }
   ],
   "source": [
    "#Creating a numpy array\n",
    "\n",
    "import numpy as np\n",
    "nums_list = [10,12,14,16,20]\n",
    "nums_array = np.array(nums_list)\n",
    "type(nums_array)"
   ]
  },
  {
   "cell_type": "code",
   "execution_count": 2,
   "metadata": {},
   "outputs": [
    {
     "data": {
      "text/plain": [
       "(3, 3)"
      ]
     },
     "execution_count": 2,
     "metadata": {},
     "output_type": "execute_result"
    }
   ],
   "source": [
    "#Creating a 2d array\n",
    "\n",
    "row1 = [10,12,13]\n",
    "row2 = [45,32,16]\n",
    "row3 = [45,32,16]\n",
    "\n",
    "nums_2d = np.array([row1,row2,row3])\n",
    "nums_2d.shape"
   ]
  },
  {
   "cell_type": "code",
   "execution_count": 3,
   "metadata": {},
   "outputs": [
    {
     "name": "stdout",
     "output_type": "stream",
     "text": [
      "[ 5  6  7  8  9 10]\n"
     ]
    }
   ],
   "source": [
    "#Using Arange to create a array from a range of integers\n",
    "\n",
    "nums_arr = np.arange(5,11)\n",
    "print(nums_arr)"
   ]
  },
  {
   "cell_type": "code",
   "execution_count": 5,
   "metadata": {},
   "outputs": [
    {
     "name": "stdout",
     "output_type": "stream",
     "text": [
      "[ 5  7  9 11]\n"
     ]
    }
   ],
   "source": [
    "#Using arange with a step\n",
    "\n",
    "nums_arr = np.arange(5,12,2)\n",
    "print(nums_arr)"
   ]
  },
  {
   "cell_type": "code",
   "execution_count": 6,
   "metadata": {},
   "outputs": [
    {
     "name": "stdout",
     "output_type": "stream",
     "text": [
      "[1. 1. 1. 1. 1. 1.]\n"
     ]
    }
   ],
   "source": [
    "#Using the ones method to create a numpy array of all ones\n",
    "\n",
    "ones_array = np.ones(6)\n",
    "print(ones_array)"
   ]
  },
  {
   "cell_type": "code",
   "execution_count": 8,
   "metadata": {},
   "outputs": [
    {
     "name": "stdout",
     "output_type": "stream",
     "text": [
      "[[1. 1. 1. 1.]\n",
      " [1. 1. 1. 1.]\n",
      " [1. 1. 1. 1.]\n",
      " [1. 1. 1. 1.]\n",
      " [1. 1. 1. 1.]\n",
      " [1. 1. 1. 1.]]\n"
     ]
    }
   ],
   "source": [
    "# Creating a 2d array with ones method\n",
    "\n",
    "ones_array = np.ones((6,4))\n",
    "print(ones_array)"
   ]
  },
  {
   "cell_type": "code",
   "execution_count": 9,
   "metadata": {},
   "outputs": [
    {
     "name": "stdout",
     "output_type": "stream",
     "text": [
      "[[1. 0. 0. 0. 0.]\n",
      " [0. 1. 0. 0. 0.]\n",
      " [0. 0. 1. 0. 0.]\n",
      " [0. 0. 0. 1. 0.]\n",
      " [0. 0. 0. 0. 1.]]\n"
     ]
    }
   ],
   "source": [
    "# USing the eyes method to create am identity matrix in the form of a 2d numpy array\n",
    "\n",
    "eyes_array = np.eye(5)\n",
    "print(eyes_array)"
   ]
  },
  {
   "cell_type": "code",
   "execution_count": 10,
   "metadata": {},
   "outputs": [
    {
     "name": "stdout",
     "output_type": "stream",
     "text": [
      "[[0.8768333  0.15487185 0.54035448 0.66353507 0.05943838]\n",
      " [0.21417262 0.65069589 0.81861537 0.75335651 0.87580334]\n",
      " [0.00107475 0.57381031 0.92991412 0.49514949 0.82087223]\n",
      " [0.0326285  0.1828137  0.49092248 0.41967931 0.05985893]]\n"
     ]
    }
   ],
   "source": [
    "#using the randon.rand method to create a numpy array with uniform distribution\n",
    "uniform_random = np.random.rand(4,5)\n",
    "print(uniform_random)"
   ]
  },
  {
   "cell_type": "code",
   "execution_count": 11,
   "metadata": {},
   "outputs": [
    {
     "name": "stdout",
     "output_type": "stream",
     "text": [
      "[[ 0.39411334  0.96615108  2.19273127  0.94653715 -1.5549027 ]\n",
      " [ 0.47444067  0.93133299 -1.27280663 -0.84580118  1.17745444]\n",
      " [ 0.44062174 -0.29737306  0.11315902  0.38840717 -0.39550301]\n",
      " [-0.93834745  1.64434895  0.4755017  -0.23411907  0.77368131]]\n"
     ]
    }
   ],
   "source": [
    "#Using random.randn to create a numpy array with normal distribution\n",
    "\n",
    "normal_random = np.random.randn(4,5)\n",
    "print(normal_random)"
   ]
  },
  {
   "cell_type": "code",
   "execution_count": 12,
   "metadata": {},
   "outputs": [
    {
     "name": "stdout",
     "output_type": "stream",
     "text": [
      "[42 37 47 31 42]\n"
     ]
    }
   ],
   "source": [
    "#Using random.randint to create a numpy array with random integers between a certain range \n",
    "\n",
    "integer_random = np.random.randint(10,50,5)\n",
    "print(integer_random)"
   ]
  },
  {
   "cell_type": "code",
   "execution_count": 13,
   "metadata": {},
   "outputs": [
    {
     "name": "stdout",
     "output_type": "stream",
     "text": [
      "[[0.43228957 0.20173321 0.00245277 0.17843294 0.69527384 0.17377727]\n",
      " [0.62834706 0.86480264 0.5823614  0.54716118 0.01564637 0.15121573]\n",
      " [0.08959949 0.50905337 0.19671275 0.62802556 0.49539717 0.16298515]\n",
      " [0.75201159 0.52348445 0.02060294 0.41187949 0.18316224 0.02732851]]\n",
      "[[0.43228957 0.20173321 0.00245277 0.17843294 0.69527384 0.17377727\n",
      "  0.62834706 0.86480264]\n",
      " [0.5823614  0.54716118 0.01564637 0.15121573 0.08959949 0.50905337\n",
      "  0.19671275 0.62802556]\n",
      " [0.49539717 0.16298515 0.75201159 0.52348445 0.02060294 0.41187949\n",
      "  0.18316224 0.02732851]]\n"
     ]
    }
   ],
   "source": [
    "# Reshaping numpy arrays\n",
    "\n",
    "uniform_random = np.random.rand(4,6)\n",
    "print(uniform_random)\n",
    "\n",
    "uniform_random = uniform_random.reshape(3,8)\n",
    "print(uniform_random)"
   ]
  },
  {
   "cell_type": "code",
   "execution_count": 18,
   "metadata": {},
   "outputs": [
    {
     "name": "stdout",
     "output_type": "stream",
     "text": [
      "[ 1  2  3  4  5  6  7  8  9 10]\n",
      "2\n",
      "[2 3 4 5 6 7 8 9]\n",
      "[1 2 3 4 5]\n",
      "[ 6  7  8  9 10]\n",
      "\n",
      "[[10 12 13]\n",
      " [45 32 16]]\n",
      "\n",
      "[[10 12]\n",
      " [45 32]\n",
      " [45 32]]\n",
      "\n",
      "[[32 16]\n",
      " [32 16]]\n"
     ]
    }
   ],
   "source": [
    "# Array indexing and Slicing\n",
    "\n",
    "s = np.arange(1,11)\n",
    "print(s)\n",
    "\n",
    "print(s[1])\n",
    "\n",
    "print(s[1:9])\n",
    "\n",
    "print(s[:5])\n",
    "print(s[5:])\n",
    "\n",
    "#Slicing a 2d numpy array \n",
    "\n",
    "row1 = [10,12,13]\n",
    "row2 = [45,32,16]\n",
    "row3 = [45,32,16]\n",
    "\n",
    "print()\n",
    "nums_2d = np.array([row1,row2,row3])\n",
    "print(nums_2d[:2,:])\n",
    "\n",
    "print()\n",
    "\n",
    "print(nums_2d[:,:2])\n",
    "\n",
    "print()\n",
    "\n",
    "\n",
    "print(nums_2d[1:,1:])\n"
   ]
  },
  {
   "cell_type": "markdown",
   "metadata": {},
   "source": [
    "# Numpy for Arithmetic Operations"
   ]
  },
  {
   "cell_type": "code",
   "execution_count": 19,
   "metadata": {},
   "outputs": [
    {
     "name": "stdout",
     "output_type": "stream",
     "text": [
      "[3.16227766 4.47213595 5.47722558 6.32455532 7.07106781]\n"
     ]
    }
   ],
   "source": [
    "# Finding Square Roots\n",
    "\n",
    "nums = [10,20,30,40,50]\n",
    "np_sqr = np.sqrt(nums)\n",
    "print(np_sqr)"
   ]
  },
  {
   "cell_type": "code",
   "execution_count": 20,
   "metadata": {},
   "outputs": [
    {
     "name": "stdout",
     "output_type": "stream",
     "text": [
      "[2.30258509 2.99573227 3.40119738 3.68887945 3.91202301]\n"
     ]
    }
   ],
   "source": [
    "# Finding Logs\n",
    "\n",
    "nums = [10,20,30,40,50]\n",
    "np_log = np.log(nums)\n",
    "print(np_log)"
   ]
  },
  {
   "cell_type": "code",
   "execution_count": 21,
   "metadata": {},
   "outputs": [
    {
     "name": "stdout",
     "output_type": "stream",
     "text": [
      "[2.20264658e+04 4.85165195e+08 1.06864746e+13 2.35385267e+17\n",
      " 5.18470553e+21]\n"
     ]
    }
   ],
   "source": [
    "#Finding Exponents\n",
    "\n",
    "nums = [10,20,30,40,50]\n",
    "np_exp = np.exp(nums)\n",
    "print(np_exp)"
   ]
  },
  {
   "cell_type": "code",
   "execution_count": 22,
   "metadata": {},
   "outputs": [
    {
     "name": "stdout",
     "output_type": "stream",
     "text": [
      "[-0.54402111  0.91294525 -0.98803162  0.74511316 -0.26237485]\n",
      "[-0.83907153  0.40808206  0.15425145 -0.66693806  0.96496603]\n"
     ]
    }
   ],
   "source": [
    "# Finding Sine and Cosine\n",
    "nums = [10,20,30,40,50]\n",
    "np_sine = np.sin(nums)\n",
    "print(np_sine)\n",
    "\n",
    "nums = [10,20,30,40,50]\n",
    "np_cos = np.cos(nums)\n",
    "print(np_cos)\n"
   ]
  },
  {
   "cell_type": "markdown",
   "metadata": {},
   "source": [
    "# Numpy for Linear Algebra Operations"
   ]
  },
  {
   "cell_type": "code",
   "execution_count": 23,
   "metadata": {},
   "outputs": [
    {
     "name": "stdout",
     "output_type": "stream",
     "text": [
      "[[ 5.88350924e-03 -1.48596222e+00 -2.25259686e+00 -1.57283152e+00]\n",
      " [ 1.13976875e+00 -2.74887458e+00  6.27783584e+00 -4.61353514e+00]\n",
      " [ 1.81263759e+00  1.03865623e+00  5.45218933e+00 -2.57724751e+00]\n",
      " [-1.35633422e-01 -2.08124584e+00  4.15709436e+00 -2.67461015e+00]]\n"
     ]
    }
   ],
   "source": [
    "#Finding Matrix Dot Product\n",
    "\n",
    "A = np.random.randn(4,5)\n",
    "\n",
    "B = np.random.randn(5,4)\n",
    "\n",
    "Z = np.dot(A,B)\n",
    "\n",
    "print(Z)"
   ]
  },
  {
   "cell_type": "code",
   "execution_count": 24,
   "metadata": {},
   "outputs": [
    {
     "name": "stdout",
     "output_type": "stream",
     "text": [
      "[[ 100  144  169]\n",
      " [2025 1024  256]\n",
      " [2025 1024  256]]\n"
     ]
    }
   ],
   "source": [
    "# Element-wise Matrix Multiplication\n",
    "\n",
    "row1 = [10,12,13]\n",
    "row2 = [45,32,16]\n",
    "row3 = [45,32,16]\n",
    "\n",
    "nums_2d = np.array([row1,row2,row3])\n",
    "multiply = np.multiply(nums_2d,nums_2d)\n",
    "print(multiply)"
   ]
  },
  {
   "cell_type": "code",
   "execution_count": 27,
   "metadata": {},
   "outputs": [
    {
     "name": "stdout",
     "output_type": "stream",
     "text": [
      "[[ 3.15251974e+15 -6.30503948e+15  3.15251974e+15]\n",
      " [-6.30503948e+15  1.26100790e+16 -6.30503948e+15]\n",
      " [ 3.15251974e+15 -6.30503948e+15  3.15251974e+15]]\n"
     ]
    }
   ],
   "source": [
    "# Finding Matrix Inverse\n",
    "\n",
    "row1 = [1,2,3]\n",
    "row2 = [4,5,6]\n",
    "row3 = [7,8,9]\n",
    "\n",
    "nums_2d = np.array([row1,row2,row3])\n",
    "inverse = np.linalg.inv(nums_2d)\n",
    "print(inverse)"
   ]
  },
  {
   "cell_type": "code",
   "execution_count": 28,
   "metadata": {},
   "outputs": [
    {
     "name": "stdout",
     "output_type": "stream",
     "text": [
      "-9.51619735392994e-16\n"
     ]
    }
   ],
   "source": [
    "# Finding Matrix Determinant\n",
    "\n",
    "row1 = [1,2,3]\n",
    "row2 = [4,5,6]\n",
    "row3 = [7,8,9]\n",
    "nums_2d = np.array([row1,row2,row3])\n",
    "\n",
    "determinant = np.linalg.det(nums_2d)\n",
    "print(determinant)"
   ]
  },
  {
   "cell_type": "code",
   "execution_count": 29,
   "metadata": {},
   "outputs": [
    {
     "name": "stdout",
     "output_type": "stream",
     "text": [
      "15\n"
     ]
    }
   ],
   "source": [
    "# Finding Matrix Trace\n",
    "\n",
    "row1 = [1,2,3]\n",
    "row2 = [4,5,6]\n",
    "row3 = [7,8,9]\n",
    "\n",
    "nums_2d = np.array([row1,row2,row3])\n",
    "\n",
    "trace = np.trace(nums_2d)\n",
    "print(trace)\n"
   ]
  },
  {
   "cell_type": "code",
   "execution_count": null,
   "metadata": {},
   "outputs": [],
   "source": []
  }
 ],
 "metadata": {
  "kernelspec": {
   "display_name": "Python 3",
   "language": "python",
   "name": "python3"
  },
  "language_info": {
   "codemirror_mode": {
    "name": "ipython",
    "version": 3
   },
   "file_extension": ".py",
   "mimetype": "text/x-python",
   "name": "python",
   "nbconvert_exporter": "python",
   "pygments_lexer": "ipython3",
   "version": "3.8.3"
  }
 },
 "nbformat": 4,
 "nbformat_minor": 4
}
